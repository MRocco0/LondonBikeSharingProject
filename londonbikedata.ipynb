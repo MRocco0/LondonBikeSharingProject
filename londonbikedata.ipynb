{
 "cells": [
  {
   "cell_type": "code",
   "execution_count": 1,
   "id": "70556f9c",
   "metadata": {
    "_cell_guid": "b1076dfc-b9ad-4769-8c92-a6c4dae69d19",
    "_uuid": "8f2839f25d086af736a60e9eeb907d3b93b6e0e5",
    "execution": {
     "iopub.execute_input": "2024-07-12T20:55:33.917162Z",
     "iopub.status.busy": "2024-07-12T20:55:33.916809Z",
     "iopub.status.idle": "2024-07-12T20:55:34.733109Z",
     "shell.execute_reply": "2024-07-12T20:55:34.731988Z"
    },
    "papermill": {
     "duration": 0.824169,
     "end_time": "2024-07-12T20:55:34.735347",
     "exception": false,
     "start_time": "2024-07-12T20:55:33.911178",
     "status": "completed"
    },
    "tags": []
   },
   "outputs": [
    {
     "name": "stdout",
     "output_type": "stream",
     "text": [
      "/kaggle/input/london-bike-sharing-dataset/london_merged.csv\n"
     ]
    }
   ],
   "source": [
    "# This Python 3 environment comes with many helpful analytics libraries installed\n",
    "# It is defined by the kaggle/python Docker image: https://github.com/kaggle/docker-python\n",
    "# For example, here's several helpful packages to load\n",
    "\n",
    "import numpy as np # linear algebra\n",
    "import pandas as pd # data processing, CSV file I/O (e.g. pd.read_csv)\n",
    "\n",
    "# Input data files are available in the read-only \"../input/\" directory\n",
    "# For example, running this (by clicking run or pressing Shift+Enter) will list all files under the input directory\n",
    "\n",
    "import os\n",
    "for dirname, _, filenames in os.walk('/kaggle/input'):\n",
    "    for filename in filenames:\n",
    "        print(os.path.join(dirname, filename))\n",
    "\n",
    "# You can write up to 20GB to the current directory (/kaggle/working/) that gets preserved as output when you create a version using \"Save & Run All\" \n",
    "# You can also write temporary files to /kaggle/temp/, but they won't be saved outside of the current session"
   ]
  },
  {
   "cell_type": "code",
   "execution_count": 2,
   "id": "c1abde1c",
   "metadata": {
    "execution": {
     "iopub.execute_input": "2024-07-12T20:55:34.744697Z",
     "iopub.status.busy": "2024-07-12T20:55:34.744229Z",
     "iopub.status.idle": "2024-07-12T20:55:34.748698Z",
     "shell.execute_reply": "2024-07-12T20:55:34.747744Z"
    },
    "papermill": {
     "duration": 0.011131,
     "end_time": "2024-07-12T20:55:34.750642",
     "exception": false,
     "start_time": "2024-07-12T20:55:34.739511",
     "status": "completed"
    },
    "tags": []
   },
   "outputs": [],
   "source": [
    "import pandas as pd"
   ]
  },
  {
   "cell_type": "code",
   "execution_count": 3,
   "id": "b9dc93b0",
   "metadata": {
    "execution": {
     "iopub.execute_input": "2024-07-12T20:55:34.759708Z",
     "iopub.status.busy": "2024-07-12T20:55:34.758937Z",
     "iopub.status.idle": "2024-07-12T20:55:34.808279Z",
     "shell.execute_reply": "2024-07-12T20:55:34.807259Z"
    },
    "papermill": {
     "duration": 0.056444,
     "end_time": "2024-07-12T20:55:34.810760",
     "exception": false,
     "start_time": "2024-07-12T20:55:34.754316",
     "status": "completed"
    },
    "tags": []
   },
   "outputs": [],
   "source": [
    "# read in csv file as pandas dataframe\n",
    "bikes = pd.read_csv('/kaggle/input/london-bike-sharing-dataset/london_merged.csv')"
   ]
  },
  {
   "cell_type": "code",
   "execution_count": 4,
   "id": "6ad5a28a",
   "metadata": {
    "execution": {
     "iopub.execute_input": "2024-07-12T20:55:34.820248Z",
     "iopub.status.busy": "2024-07-12T20:55:34.819446Z",
     "iopub.status.idle": "2024-07-12T20:55:34.848677Z",
     "shell.execute_reply": "2024-07-12T20:55:34.847536Z"
    },
    "papermill": {
     "duration": 0.036279,
     "end_time": "2024-07-12T20:55:34.851044",
     "exception": false,
     "start_time": "2024-07-12T20:55:34.814765",
     "status": "completed"
    },
    "tags": []
   },
   "outputs": [
    {
     "name": "stdout",
     "output_type": "stream",
     "text": [
      "<class 'pandas.core.frame.DataFrame'>\n",
      "RangeIndex: 17414 entries, 0 to 17413\n",
      "Data columns (total 10 columns):\n",
      " #   Column        Non-Null Count  Dtype  \n",
      "---  ------        --------------  -----  \n",
      " 0   timestamp     17414 non-null  object \n",
      " 1   cnt           17414 non-null  int64  \n",
      " 2   t1            17414 non-null  float64\n",
      " 3   t2            17414 non-null  float64\n",
      " 4   hum           17414 non-null  float64\n",
      " 5   wind_speed    17414 non-null  float64\n",
      " 6   weather_code  17414 non-null  float64\n",
      " 7   is_holiday    17414 non-null  float64\n",
      " 8   is_weekend    17414 non-null  float64\n",
      " 9   season        17414 non-null  float64\n",
      "dtypes: float64(8), int64(1), object(1)\n",
      "memory usage: 1.3+ MB\n"
     ]
    }
   ],
   "source": [
    "# explore data\n",
    "bikes.info()"
   ]
  },
  {
   "cell_type": "code",
   "execution_count": 5,
   "id": "92a43462",
   "metadata": {
    "execution": {
     "iopub.execute_input": "2024-07-12T20:55:34.860490Z",
     "iopub.status.busy": "2024-07-12T20:55:34.859710Z",
     "iopub.status.idle": "2024-07-12T20:55:34.866511Z",
     "shell.execute_reply": "2024-07-12T20:55:34.865562Z"
    },
    "papermill": {
     "duration": 0.013766,
     "end_time": "2024-07-12T20:55:34.868716",
     "exception": false,
     "start_time": "2024-07-12T20:55:34.854950",
     "status": "completed"
    },
    "tags": []
   },
   "outputs": [
    {
     "data": {
      "text/plain": [
       "(17414, 10)"
      ]
     },
     "execution_count": 5,
     "metadata": {},
     "output_type": "execute_result"
    }
   ],
   "source": [
    "# display number of columns, rows\n",
    "bikes.shape"
   ]
  },
  {
   "cell_type": "code",
   "execution_count": 6,
   "id": "846143e8",
   "metadata": {
    "execution": {
     "iopub.execute_input": "2024-07-12T20:55:34.878733Z",
     "iopub.status.busy": "2024-07-12T20:55:34.877911Z",
     "iopub.status.idle": "2024-07-12T20:55:34.907087Z",
     "shell.execute_reply": "2024-07-12T20:55:34.906128Z"
    },
    "papermill": {
     "duration": 0.03638,
     "end_time": "2024-07-12T20:55:34.909111",
     "exception": false,
     "start_time": "2024-07-12T20:55:34.872731",
     "status": "completed"
    },
    "tags": []
   },
   "outputs": [
    {
     "data": {
      "text/html": [
       "<div>\n",
       "<style scoped>\n",
       "    .dataframe tbody tr th:only-of-type {\n",
       "        vertical-align: middle;\n",
       "    }\n",
       "\n",
       "    .dataframe tbody tr th {\n",
       "        vertical-align: top;\n",
       "    }\n",
       "\n",
       "    .dataframe thead th {\n",
       "        text-align: right;\n",
       "    }\n",
       "</style>\n",
       "<table border=\"1\" class=\"dataframe\">\n",
       "  <thead>\n",
       "    <tr style=\"text-align: right;\">\n",
       "      <th></th>\n",
       "      <th>timestamp</th>\n",
       "      <th>cnt</th>\n",
       "      <th>t1</th>\n",
       "      <th>t2</th>\n",
       "      <th>hum</th>\n",
       "      <th>wind_speed</th>\n",
       "      <th>weather_code</th>\n",
       "      <th>is_holiday</th>\n",
       "      <th>is_weekend</th>\n",
       "      <th>season</th>\n",
       "    </tr>\n",
       "  </thead>\n",
       "  <tbody>\n",
       "    <tr>\n",
       "      <th>0</th>\n",
       "      <td>2015-01-04 00:00:00</td>\n",
       "      <td>182</td>\n",
       "      <td>3.0</td>\n",
       "      <td>2.0</td>\n",
       "      <td>93.0</td>\n",
       "      <td>6.0</td>\n",
       "      <td>3.0</td>\n",
       "      <td>0.0</td>\n",
       "      <td>1.0</td>\n",
       "      <td>3.0</td>\n",
       "    </tr>\n",
       "    <tr>\n",
       "      <th>1</th>\n",
       "      <td>2015-01-04 01:00:00</td>\n",
       "      <td>138</td>\n",
       "      <td>3.0</td>\n",
       "      <td>2.5</td>\n",
       "      <td>93.0</td>\n",
       "      <td>5.0</td>\n",
       "      <td>1.0</td>\n",
       "      <td>0.0</td>\n",
       "      <td>1.0</td>\n",
       "      <td>3.0</td>\n",
       "    </tr>\n",
       "    <tr>\n",
       "      <th>2</th>\n",
       "      <td>2015-01-04 02:00:00</td>\n",
       "      <td>134</td>\n",
       "      <td>2.5</td>\n",
       "      <td>2.5</td>\n",
       "      <td>96.5</td>\n",
       "      <td>0.0</td>\n",
       "      <td>1.0</td>\n",
       "      <td>0.0</td>\n",
       "      <td>1.0</td>\n",
       "      <td>3.0</td>\n",
       "    </tr>\n",
       "    <tr>\n",
       "      <th>3</th>\n",
       "      <td>2015-01-04 03:00:00</td>\n",
       "      <td>72</td>\n",
       "      <td>2.0</td>\n",
       "      <td>2.0</td>\n",
       "      <td>100.0</td>\n",
       "      <td>0.0</td>\n",
       "      <td>1.0</td>\n",
       "      <td>0.0</td>\n",
       "      <td>1.0</td>\n",
       "      <td>3.0</td>\n",
       "    </tr>\n",
       "    <tr>\n",
       "      <th>4</th>\n",
       "      <td>2015-01-04 04:00:00</td>\n",
       "      <td>47</td>\n",
       "      <td>2.0</td>\n",
       "      <td>0.0</td>\n",
       "      <td>93.0</td>\n",
       "      <td>6.5</td>\n",
       "      <td>1.0</td>\n",
       "      <td>0.0</td>\n",
       "      <td>1.0</td>\n",
       "      <td>3.0</td>\n",
       "    </tr>\n",
       "    <tr>\n",
       "      <th>...</th>\n",
       "      <td>...</td>\n",
       "      <td>...</td>\n",
       "      <td>...</td>\n",
       "      <td>...</td>\n",
       "      <td>...</td>\n",
       "      <td>...</td>\n",
       "      <td>...</td>\n",
       "      <td>...</td>\n",
       "      <td>...</td>\n",
       "      <td>...</td>\n",
       "    </tr>\n",
       "    <tr>\n",
       "      <th>17409</th>\n",
       "      <td>2017-01-03 19:00:00</td>\n",
       "      <td>1042</td>\n",
       "      <td>5.0</td>\n",
       "      <td>1.0</td>\n",
       "      <td>81.0</td>\n",
       "      <td>19.0</td>\n",
       "      <td>3.0</td>\n",
       "      <td>0.0</td>\n",
       "      <td>0.0</td>\n",
       "      <td>3.0</td>\n",
       "    </tr>\n",
       "    <tr>\n",
       "      <th>17410</th>\n",
       "      <td>2017-01-03 20:00:00</td>\n",
       "      <td>541</td>\n",
       "      <td>5.0</td>\n",
       "      <td>1.0</td>\n",
       "      <td>81.0</td>\n",
       "      <td>21.0</td>\n",
       "      <td>4.0</td>\n",
       "      <td>0.0</td>\n",
       "      <td>0.0</td>\n",
       "      <td>3.0</td>\n",
       "    </tr>\n",
       "    <tr>\n",
       "      <th>17411</th>\n",
       "      <td>2017-01-03 21:00:00</td>\n",
       "      <td>337</td>\n",
       "      <td>5.5</td>\n",
       "      <td>1.5</td>\n",
       "      <td>78.5</td>\n",
       "      <td>24.0</td>\n",
       "      <td>4.0</td>\n",
       "      <td>0.0</td>\n",
       "      <td>0.0</td>\n",
       "      <td>3.0</td>\n",
       "    </tr>\n",
       "    <tr>\n",
       "      <th>17412</th>\n",
       "      <td>2017-01-03 22:00:00</td>\n",
       "      <td>224</td>\n",
       "      <td>5.5</td>\n",
       "      <td>1.5</td>\n",
       "      <td>76.0</td>\n",
       "      <td>23.0</td>\n",
       "      <td>4.0</td>\n",
       "      <td>0.0</td>\n",
       "      <td>0.0</td>\n",
       "      <td>3.0</td>\n",
       "    </tr>\n",
       "    <tr>\n",
       "      <th>17413</th>\n",
       "      <td>2017-01-03 23:00:00</td>\n",
       "      <td>139</td>\n",
       "      <td>5.0</td>\n",
       "      <td>1.0</td>\n",
       "      <td>76.0</td>\n",
       "      <td>22.0</td>\n",
       "      <td>2.0</td>\n",
       "      <td>0.0</td>\n",
       "      <td>0.0</td>\n",
       "      <td>3.0</td>\n",
       "    </tr>\n",
       "  </tbody>\n",
       "</table>\n",
       "<p>17414 rows × 10 columns</p>\n",
       "</div>"
      ],
      "text/plain": [
       "                 timestamp   cnt   t1   t2    hum  wind_speed  weather_code  \\\n",
       "0      2015-01-04 00:00:00   182  3.0  2.0   93.0         6.0           3.0   \n",
       "1      2015-01-04 01:00:00   138  3.0  2.5   93.0         5.0           1.0   \n",
       "2      2015-01-04 02:00:00   134  2.5  2.5   96.5         0.0           1.0   \n",
       "3      2015-01-04 03:00:00    72  2.0  2.0  100.0         0.0           1.0   \n",
       "4      2015-01-04 04:00:00    47  2.0  0.0   93.0         6.5           1.0   \n",
       "...                    ...   ...  ...  ...    ...         ...           ...   \n",
       "17409  2017-01-03 19:00:00  1042  5.0  1.0   81.0        19.0           3.0   \n",
       "17410  2017-01-03 20:00:00   541  5.0  1.0   81.0        21.0           4.0   \n",
       "17411  2017-01-03 21:00:00   337  5.5  1.5   78.5        24.0           4.0   \n",
       "17412  2017-01-03 22:00:00   224  5.5  1.5   76.0        23.0           4.0   \n",
       "17413  2017-01-03 23:00:00   139  5.0  1.0   76.0        22.0           2.0   \n",
       "\n",
       "       is_holiday  is_weekend  season  \n",
       "0             0.0         1.0     3.0  \n",
       "1             0.0         1.0     3.0  \n",
       "2             0.0         1.0     3.0  \n",
       "3             0.0         1.0     3.0  \n",
       "4             0.0         1.0     3.0  \n",
       "...           ...         ...     ...  \n",
       "17409         0.0         0.0     3.0  \n",
       "17410         0.0         0.0     3.0  \n",
       "17411         0.0         0.0     3.0  \n",
       "17412         0.0         0.0     3.0  \n",
       "17413         0.0         0.0     3.0  \n",
       "\n",
       "[17414 rows x 10 columns]"
      ]
     },
     "execution_count": 6,
     "metadata": {},
     "output_type": "execute_result"
    }
   ],
   "source": [
    "# visualize data\n",
    "bikes"
   ]
  },
  {
   "cell_type": "code",
   "execution_count": 7,
   "id": "a2e80777",
   "metadata": {
    "execution": {
     "iopub.execute_input": "2024-07-12T20:55:34.918958Z",
     "iopub.status.busy": "2024-07-12T20:55:34.918563Z",
     "iopub.status.idle": "2024-07-12T20:55:34.927929Z",
     "shell.execute_reply": "2024-07-12T20:55:34.926989Z"
    },
    "papermill": {
     "duration": 0.016634,
     "end_time": "2024-07-12T20:55:34.930066",
     "exception": false,
     "start_time": "2024-07-12T20:55:34.913432",
     "status": "completed"
    },
    "tags": []
   },
   "outputs": [
    {
     "data": {
      "text/plain": [
       "weather_code\n",
       "1.0     6150\n",
       "2.0     4034\n",
       "3.0     3551\n",
       "7.0     2141\n",
       "4.0     1464\n",
       "26.0      60\n",
       "10.0      14\n",
       "Name: count, dtype: int64"
      ]
     },
     "execution_count": 7,
     "metadata": {},
     "output_type": "execute_result"
    }
   ],
   "source": [
    "# count unique weather_code values\n",
    "bikes.weather_code.value_counts()"
   ]
  },
  {
   "cell_type": "code",
   "execution_count": 8,
   "id": "92068cb6",
   "metadata": {
    "execution": {
     "iopub.execute_input": "2024-07-12T20:55:34.940840Z",
     "iopub.status.busy": "2024-07-12T20:55:34.940070Z",
     "iopub.status.idle": "2024-07-12T20:55:34.947784Z",
     "shell.execute_reply": "2024-07-12T20:55:34.946876Z"
    },
    "papermill": {
     "duration": 0.015498,
     "end_time": "2024-07-12T20:55:34.950039",
     "exception": false,
     "start_time": "2024-07-12T20:55:34.934541",
     "status": "completed"
    },
    "tags": []
   },
   "outputs": [
    {
     "data": {
      "text/plain": [
       "season\n",
       "0.0    4394\n",
       "1.0    4387\n",
       "3.0    4330\n",
       "2.0    4303\n",
       "Name: count, dtype: int64"
      ]
     },
     "execution_count": 8,
     "metadata": {},
     "output_type": "execute_result"
    }
   ],
   "source": [
    "# count unique season values\n",
    "bikes.season.value_counts()"
   ]
  },
  {
   "cell_type": "code",
   "execution_count": 9,
   "id": "91eb5c38",
   "metadata": {
    "execution": {
     "iopub.execute_input": "2024-07-12T20:55:34.960929Z",
     "iopub.status.busy": "2024-07-12T20:55:34.960144Z",
     "iopub.status.idle": "2024-07-12T20:55:34.965986Z",
     "shell.execute_reply": "2024-07-12T20:55:34.965088Z"
    },
    "papermill": {
     "duration": 0.01328,
     "end_time": "2024-07-12T20:55:34.967980",
     "exception": false,
     "start_time": "2024-07-12T20:55:34.954700",
     "status": "completed"
    },
    "tags": []
   },
   "outputs": [],
   "source": [
    "# specify new column names\n",
    "new_columns_dictionary = {\n",
    "    'timestamp':'Time',\n",
    "    'cnt':'Count',\n",
    "    't1':'Temperature_Real_C',\n",
    "    't2':'Temperature_FeelsLike_C',\n",
    "    'hum':'Humidity_Percent',\n",
    "    'wind_speed':'Wind_Speed_Kph',\n",
    "    'weather_code':'Weather',\n",
    "    'is_holiday':'Is_Holiday',\n",
    "    'is_weekend':'Is_Weekend',\n",
    "    'season':'Season',\n",
    "}\n",
    "\n",
    "# apply new column names\n",
    "bikes.rename(new_columns_dictionary, axis=1, inplace=True)"
   ]
  },
  {
   "cell_type": "code",
   "execution_count": 10,
   "id": "b7c3237c",
   "metadata": {
    "execution": {
     "iopub.execute_input": "2024-07-12T20:55:34.979047Z",
     "iopub.status.busy": "2024-07-12T20:55:34.978192Z",
     "iopub.status.idle": "2024-07-12T20:55:34.983892Z",
     "shell.execute_reply": "2024-07-12T20:55:34.982876Z"
    },
    "papermill": {
     "duration": 0.013468,
     "end_time": "2024-07-12T20:55:34.985965",
     "exception": false,
     "start_time": "2024-07-12T20:55:34.972497",
     "status": "completed"
    },
    "tags": []
   },
   "outputs": [],
   "source": [
    "# set humidity values to a percentage (b/w 0-1)\n",
    "bikes.Humidity_Percent = bikes.Humidity_Percent / 1000"
   ]
  },
  {
   "cell_type": "code",
   "execution_count": 11,
   "id": "baefa086",
   "metadata": {
    "execution": {
     "iopub.execute_input": "2024-07-12T20:55:34.997135Z",
     "iopub.status.busy": "2024-07-12T20:55:34.996314Z",
     "iopub.status.idle": "2024-07-12T20:55:35.026973Z",
     "shell.execute_reply": "2024-07-12T20:55:35.026052Z"
    },
    "papermill": {
     "duration": 0.038624,
     "end_time": "2024-07-12T20:55:35.029358",
     "exception": false,
     "start_time": "2024-07-12T20:55:34.990734",
     "status": "completed"
    },
    "tags": []
   },
   "outputs": [],
   "source": [
    "# create season dictionary\n",
    "season_dictionary = {\n",
    "    '0.0':'Spring',\n",
    "    '1.0':'Summer',\n",
    "    '2.0':'Autmn',\n",
    "    '3.0':'Winter',\n",
    "}\n",
    "# create weather dictionary\n",
    "weather_dictionary = {\n",
    "    '1.0':'Clear',\n",
    "    '2.0':'Scattered clouds',\n",
    "    '3.0':'Broken clouds',\n",
    "    '4.0':'Cloudy',\n",
    "    '7.0':'Rain',\n",
    "    '10.0':'Rain with thunderstorm',\n",
    "    '26.0':'Snow',\n",
    "}\n",
    "\n",
    "# change season column to string data type\n",
    "bikes.Season = bikes.Season.astype('str')\n",
    "# map season values to string data type\n",
    "bikes.Season = bikes.Season.map(season_dictionary)\n",
    "\n",
    "# change weather column to string data type\n",
    "bikes.Weather = bikes.Weather.astype('str')\n",
    "# map weather values to string data type\n",
    "bikes.Weather = bikes.Weather.map(weather_dictionary)"
   ]
  },
  {
   "cell_type": "code",
   "execution_count": 12,
   "id": "807076d6",
   "metadata": {
    "execution": {
     "iopub.execute_input": "2024-07-12T20:55:35.040508Z",
     "iopub.status.busy": "2024-07-12T20:55:35.039700Z",
     "iopub.status.idle": "2024-07-12T20:55:35.055070Z",
     "shell.execute_reply": "2024-07-12T20:55:35.054129Z"
    },
    "papermill": {
     "duration": 0.02311,
     "end_time": "2024-07-12T20:55:35.057165",
     "exception": false,
     "start_time": "2024-07-12T20:55:35.034055",
     "status": "completed"
    },
    "tags": []
   },
   "outputs": [
    {
     "data": {
      "text/html": [
       "<div>\n",
       "<style scoped>\n",
       "    .dataframe tbody tr th:only-of-type {\n",
       "        vertical-align: middle;\n",
       "    }\n",
       "\n",
       "    .dataframe tbody tr th {\n",
       "        vertical-align: top;\n",
       "    }\n",
       "\n",
       "    .dataframe thead th {\n",
       "        text-align: right;\n",
       "    }\n",
       "</style>\n",
       "<table border=\"1\" class=\"dataframe\">\n",
       "  <thead>\n",
       "    <tr style=\"text-align: right;\">\n",
       "      <th></th>\n",
       "      <th>Time</th>\n",
       "      <th>Count</th>\n",
       "      <th>Temperature_Real_C</th>\n",
       "      <th>Temperature_FeelsLike_C</th>\n",
       "      <th>Humidity_Percent</th>\n",
       "      <th>Wind_Speed_Kph</th>\n",
       "      <th>Weather</th>\n",
       "      <th>Is_Holiday</th>\n",
       "      <th>Is_Weekend</th>\n",
       "      <th>Season</th>\n",
       "    </tr>\n",
       "  </thead>\n",
       "  <tbody>\n",
       "    <tr>\n",
       "      <th>0</th>\n",
       "      <td>2015-01-04 00:00:00</td>\n",
       "      <td>182</td>\n",
       "      <td>3.0</td>\n",
       "      <td>2.0</td>\n",
       "      <td>0.0930</td>\n",
       "      <td>6.0</td>\n",
       "      <td>Broken clouds</td>\n",
       "      <td>0.0</td>\n",
       "      <td>1.0</td>\n",
       "      <td>Winter</td>\n",
       "    </tr>\n",
       "    <tr>\n",
       "      <th>1</th>\n",
       "      <td>2015-01-04 01:00:00</td>\n",
       "      <td>138</td>\n",
       "      <td>3.0</td>\n",
       "      <td>2.5</td>\n",
       "      <td>0.0930</td>\n",
       "      <td>5.0</td>\n",
       "      <td>Clear</td>\n",
       "      <td>0.0</td>\n",
       "      <td>1.0</td>\n",
       "      <td>Winter</td>\n",
       "    </tr>\n",
       "    <tr>\n",
       "      <th>2</th>\n",
       "      <td>2015-01-04 02:00:00</td>\n",
       "      <td>134</td>\n",
       "      <td>2.5</td>\n",
       "      <td>2.5</td>\n",
       "      <td>0.0965</td>\n",
       "      <td>0.0</td>\n",
       "      <td>Clear</td>\n",
       "      <td>0.0</td>\n",
       "      <td>1.0</td>\n",
       "      <td>Winter</td>\n",
       "    </tr>\n",
       "    <tr>\n",
       "      <th>3</th>\n",
       "      <td>2015-01-04 03:00:00</td>\n",
       "      <td>72</td>\n",
       "      <td>2.0</td>\n",
       "      <td>2.0</td>\n",
       "      <td>0.1000</td>\n",
       "      <td>0.0</td>\n",
       "      <td>Clear</td>\n",
       "      <td>0.0</td>\n",
       "      <td>1.0</td>\n",
       "      <td>Winter</td>\n",
       "    </tr>\n",
       "    <tr>\n",
       "      <th>4</th>\n",
       "      <td>2015-01-04 04:00:00</td>\n",
       "      <td>47</td>\n",
       "      <td>2.0</td>\n",
       "      <td>0.0</td>\n",
       "      <td>0.0930</td>\n",
       "      <td>6.5</td>\n",
       "      <td>Clear</td>\n",
       "      <td>0.0</td>\n",
       "      <td>1.0</td>\n",
       "      <td>Winter</td>\n",
       "    </tr>\n",
       "  </tbody>\n",
       "</table>\n",
       "</div>"
      ],
      "text/plain": [
       "                  Time  Count  Temperature_Real_C  Temperature_FeelsLike_C  \\\n",
       "0  2015-01-04 00:00:00    182                 3.0                      2.0   \n",
       "1  2015-01-04 01:00:00    138                 3.0                      2.5   \n",
       "2  2015-01-04 02:00:00    134                 2.5                      2.5   \n",
       "3  2015-01-04 03:00:00     72                 2.0                      2.0   \n",
       "4  2015-01-04 04:00:00     47                 2.0                      0.0   \n",
       "\n",
       "   Humidity_Percent  Wind_Speed_Kph        Weather  Is_Holiday  Is_Weekend  \\\n",
       "0            0.0930             6.0  Broken clouds         0.0         1.0   \n",
       "1            0.0930             5.0          Clear         0.0         1.0   \n",
       "2            0.0965             0.0          Clear         0.0         1.0   \n",
       "3            0.1000             0.0          Clear         0.0         1.0   \n",
       "4            0.0930             6.5          Clear         0.0         1.0   \n",
       "\n",
       "   Season  \n",
       "0  Winter  \n",
       "1  Winter  \n",
       "2  Winter  \n",
       "3  Winter  \n",
       "4  Winter  "
      ]
     },
     "execution_count": 12,
     "metadata": {},
     "output_type": "execute_result"
    }
   ],
   "source": [
    "# check dataframe to verify mappings updated\n",
    "bikes.head()"
   ]
  },
  {
   "cell_type": "code",
   "execution_count": 13,
   "id": "ea77c68a",
   "metadata": {
    "execution": {
     "iopub.execute_input": "2024-07-12T20:55:35.068378Z",
     "iopub.status.busy": "2024-07-12T20:55:35.067770Z",
     "iopub.status.idle": "2024-07-12T20:55:40.384583Z",
     "shell.execute_reply": "2024-07-12T20:55:40.383483Z"
    },
    "papermill": {
     "duration": 5.325227,
     "end_time": "2024-07-12T20:55:40.387175",
     "exception": false,
     "start_time": "2024-07-12T20:55:35.061948",
     "status": "completed"
    },
    "tags": []
   },
   "outputs": [],
   "source": [
    "# export final dataframe to excel file for Tableau Visualization\n",
    "bikes.to_excel('london_bikes_final.xlsx', sheet_name = 'BikeData')"
   ]
  }
 ],
 "metadata": {
  "kaggle": {
   "accelerator": "none",
   "dataSources": [
    {
     "datasetId": 376751,
     "sourceId": 731448,
     "sourceType": "datasetVersion"
    }
   ],
   "dockerImageVersionId": 30746,
   "isGpuEnabled": false,
   "isInternetEnabled": false,
   "language": "python",
   "sourceType": "notebook"
  },
  "kernelspec": {
   "display_name": "Python 3",
   "language": "python",
   "name": "python3"
  },
  "language_info": {
   "codemirror_mode": {
    "name": "ipython",
    "version": 3
   },
   "file_extension": ".py",
   "mimetype": "text/x-python",
   "name": "python",
   "nbconvert_exporter": "python",
   "pygments_lexer": "ipython3",
   "version": "3.10.13"
  },
  "papermill": {
   "default_parameters": {},
   "duration": 9.618054,
   "end_time": "2024-07-12T20:55:40.911906",
   "environment_variables": {},
   "exception": null,
   "input_path": "__notebook__.ipynb",
   "output_path": "__notebook__.ipynb",
   "parameters": {},
   "start_time": "2024-07-12T20:55:31.293852",
   "version": "2.5.0"
  }
 },
 "nbformat": 4,
 "nbformat_minor": 5
}
